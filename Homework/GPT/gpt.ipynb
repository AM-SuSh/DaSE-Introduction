{
 "cells": [
  {
   "cell_type": "code",
   "execution_count": null,
   "metadata": {},
   "outputs": [],
   "source": [
    "import pandas as pd\n",
    "#  Data Loading\n",
    "file_path = 'combined_data.csv'\n",
    "data = pd.read_csv(file_path)\n"
   ]
  },
  {
   "cell_type": "code",
   "execution_count": null,
   "metadata": {},
   "outputs": [
    {
     "data": {
      "text/plain": [
       "country\n",
       "United States     69500\n",
       "India             25092\n",
       "Germany           17616\n",
       "United Kingdom    15068\n",
       "China             14581\n",
       "Brazil            14083\n",
       "Canada            11034\n",
       "France            10046\n",
       "Russia             6121\n",
       "Netherlands        5677\n",
       "Name: count, dtype: int64"
      ]
     },
     "execution_count": 7,
     "metadata": {},
     "output_type": "execute_result"
    }
   ],
   "source": [
    "#  Country and Region Distribution\n",
    "country_distribution = data['country'].value_counts()\n",
    "country_distribution.head(10)"
   ]
  },
  {
   "cell_type": "code",
   "execution_count": 23,
   "metadata": {},
   "outputs": [
    {
     "data": {
      "text/plain": [
       "(email\n",
       " tingyan.shen@gmail.com        2\n",
       " github@nunogois.com           2\n",
       " yane@88.com                   2\n",
       " josem.perram@educa.jcyl.es    2\n",
       " napoli.tiago96@gmail.com      2\n",
       " fembina@pm.me                 2\n",
       " duritia@yahoo.com             2\n",
       " igoel.mail@gmail.com          2\n",
       " kazenasser@gmail.com          2\n",
       " jlynch@raiderexpress.tech     2\n",
       " Name: count, dtype: int64,\n",
       " email\n",
       " 576625322@qq.com              1\n",
       " earl.floden@octoenergy.com    1\n",
       " hust2012jiangkai@gmail.com    1\n",
       " cosmin.p@live.com             1\n",
       " rladwig@ecos.au.dk            1\n",
       " tamaina@hotmail.co.jp         1\n",
       " glzjin2015@gmail.com          1\n",
       " warunhasija@gmail.com         1\n",
       " till.hartmann@udo.edu         1\n",
       " rupeshbarve17@gmail.com       1\n",
       " Name: count, dtype: int64)"
      ]
     },
     "execution_count": 23,
     "metadata": {},
     "output_type": "execute_result"
    }
   ],
   "source": [
    "#  Collaboration behavior analysis\n",
    "user_submission_counts = data['email'].value_counts()\n",
    "\n",
    "top_users = user_submission_counts.head(10)\n",
    "bottom_users = user_submission_counts.tail(10)\n",
    "\n",
    "top_users, bottom_users\n"
   ]
  },
  {
   "cell_type": "code",
   "execution_count": null,
   "metadata": {},
   "outputs": [
    {
     "data": {
      "text/plain": [
       "user_location\n",
       "Germany              5050\n",
       "India                3877\n",
       "London               3148\n",
       "France               2593\n",
       "United States        2425\n",
       "Seattle, WA          2083\n",
       "Berlin               1975\n",
       "Brazil               1924\n",
       "Bangalore            1911\n",
       "San Francisco, CA    1716\n",
       "Name: count, dtype: int64"
      ]
     },
     "execution_count": 8,
     "metadata": {},
     "output_type": "execute_result"
    }
   ],
   "source": [
    "#  City Level Distribution\n",
    "city_distribution = data['user_location'].value_counts()\n",
    "city_distribution.head(10)"
   ]
  },
  {
   "cell_type": "code",
   "execution_count": null,
   "metadata": {},
   "outputs": [
    {
     "data": {
      "text/plain": [
       "timezone\n",
       "Japan                1422\n",
       "Poland               1383\n",
       "Portugal              599\n",
       "Asia/Tokyo              7\n",
       "Asia/Shanghai           4\n",
       "America/New_York        3\n",
       "Europe/Berlin           2\n",
       "Europe/Brussels         1\n",
       "America/Vancouver       1\n",
       "Eire                    1\n",
       "Name: count, dtype: int64"
      ]
     },
     "execution_count": 27,
     "metadata": {},
     "output_type": "execute_result"
    }
   ],
   "source": [
    "import pandas as pd  \n",
    "import matplotlib.pyplot as plt  \n",
    "import seaborn as sns  \n",
    "import pytz  \n",
    "from datetime import datetime  \n",
    "\n",
    "\n",
    "# 处理时间数据  \n",
    "data['updated_at'] = pd.to_datetime(data['updated_at'])  \n",
    "\n",
    "# 提取用户位置和时区  \n",
    "# 这里假设 location_info_location 列包含城市或地区信息  \n",
    "def get_timezone(location):  \n",
    "    try:  \n",
    "        # 使用pytz库获取时区  \n",
    "        timezone = pytz.timezone(location)  \n",
    "        return timezone.zone  \n",
    "    except Exception:  \n",
    "        return None  \n",
    "\n",
    "# 创建一个新的列来存储时区信息  \n",
    "data['timezone'] = data['location_info_location'].apply(get_timezone)  \n",
    "\n",
    "# 统计每个时区的用户数量  \n",
    "timezone_distribution = data['timezone'].value_counts()  \n",
    "timezone_distribution.head(10)\n",
    "\n"
   ]
  },
  {
   "cell_type": "code",
   "execution_count": null,
   "metadata": {},
   "outputs": [
    {
     "data": {
      "text/plain": [
       "company\n",
       "Microsoft     1501\n",
       "Red Hat        905\n",
       "Google         903\n",
       "IBM            374\n",
       "Amazon         274\n",
       "@Microsoft     256\n",
       "@google        232\n",
       "Freelance      228\n",
       "AWS            222\n",
       "Intel          216\n",
       "Name: count, dtype: int64"
      ]
     },
     "execution_count": 12,
     "metadata": {},
     "output_type": "execute_result"
    }
   ],
   "source": [
    "#  top 10 users\n",
    "user_submission_counts = data['id'].value_counts()\n",
    "\n",
    "# Display the top 10 users by submission count and the bottom 10 users by submission count\n",
    "top_users = user_submission_counts.head(10)\n",
    "bottom_users = user_submission_counts.tail(10)\n",
    "\n",
    "top_users, bottom_users"
   ]
  },
  {
   "cell_type": "code",
   "execution_count": 15,
   "metadata": {},
   "outputs": [
    {
     "data": {
      "text/plain": [
       "company\n",
       "Microsoft     1501\n",
       "Red Hat        905\n",
       "Google         903\n",
       "IBM            374\n",
       "Amazon         274\n",
       "@Microsoft     256\n",
       "@google        232\n",
       "Freelance      228\n",
       "AWS            222\n",
       "Intel          216\n",
       "Name: count, dtype: int64"
      ]
     },
     "execution_count": 15,
     "metadata": {},
     "output_type": "execute_result"
    }
   ],
   "source": [
    "#  Company Distribution\n",
    "company_distribution = data['company'].value_counts()\n",
    "company_distribution.head(10)"
   ]
  },
  {
   "cell_type": "code",
   "execution_count": 16,
   "metadata": {},
   "outputs": [
    {
     "data": {
      "text/plain": [
       "updated_at\n",
       "16    229977\n",
       "Name: count, dtype: int64"
      ]
     },
     "execution_count": 16,
     "metadata": {},
     "output_type": "execute_result"
    }
   ],
   "source": [
    "#  Update time distribution\n",
    "data['updated_at'] = pd.to_datetime(data['updated_at'])\n",
    "update_time_distribution = data['updated_at'].dt.hour.value_counts().sort_index()\n",
    "update_time_distribution\n"
   ]
  },
  {
   "cell_type": "code",
   "execution_count": 19,
   "metadata": {},
   "outputs": [
    {
     "name": "stderr",
     "output_type": "stream",
     "text": [
      "C:\\Users\\18336\\AppData\\Local\\Temp\\ipykernel_22152\\2248549312.py:4: SettingWithCopyWarning: \n",
      "A value is trying to be set on a copy of a slice from a DataFrame.\n",
      "Try using .loc[row_indexer,col_indexer] = value instead\n",
      "\n",
      "See the caveats in the documentation: https://pandas.pydata.org/pandas-docs/stable/user_guide/indexing.html#returning-a-view-versus-a-copy\n",
      "  data_filtered['bio_length'] = data_filtered['bio'].apply(len)\n"
     ]
    },
    {
     "data": {
      "text/plain": [
       "count     54.000000\n",
       "mean       8.685185\n",
       "std       22.081174\n",
       "min        1.000000\n",
       "25%        2.000000\n",
       "50%        3.000000\n",
       "75%        6.000000\n",
       "max      160.000000\n",
       "Name: bio_length, dtype: float64"
      ]
     },
     "execution_count": 19,
     "metadata": {},
     "output_type": "execute_result"
    }
   ],
   "source": [
    "#  Users' bio_length\n",
    "data_filtered = data[pd.to_numeric(data['bio'], errors='coerce').notnull()]\n",
    "\n",
    "data_filtered['bio_length'] = data_filtered['bio'].apply(len)\n",
    "bio_length_distribution = data_filtered['bio_length'].describe()\n",
    "bio_length_distribution\n"
   ]
  }
 ],
 "metadata": {
  "kernelspec": {
   "display_name": "Python 3",
   "language": "python",
   "name": "python3"
  },
  "language_info": {
   "codemirror_mode": {
    "name": "ipython",
    "version": 3
   },
   "file_extension": ".py",
   "mimetype": "text/x-python",
   "name": "python",
   "nbconvert_exporter": "python",
   "pygments_lexer": "ipython3",
   "version": "3.9.13"
  }
 },
 "nbformat": 4,
 "nbformat_minor": 2
}
