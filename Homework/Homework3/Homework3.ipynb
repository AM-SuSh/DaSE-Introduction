{
 "cells": [
  {
   "cell_type": "markdown",
   "metadata": {},
   "source": [
    "1.编写 Python程序,判断输入a是否为质数"
   ]
  },
  {
   "cell_type": "code",
   "execution_count": 1,
   "metadata": {},
   "outputs": [
    {
     "name": "stdout",
     "output_type": "stream",
     "text": [
      "是质数\n"
     ]
    }
   ],
   "source": [
    "a=int(input(\"请输入一个数：\"))\n",
    "if a==1:\n",
    "    print(\"不是质数\")\n",
    "elif a==2:\n",
    "    print(\"是质数\")\n",
    "else:\n",
    "    for i in range(2,a):\n",
    "        if a%i==0:\n",
    "            print(\"不是质数\")\n",
    "            break\n",
    "    else:\n",
    "        print(\"是质数\")\n",
    "#eg.a=3"
   ]
  },
  {
   "cell_type": "markdown",
   "metadata": {},
   "source": [
    "2.用Python实现插入排序该算法，不允许直接调用插入排序函数，需要手动实现其逻辑过程。"
   ]
  },
  {
   "cell_type": "code",
   "execution_count": 1,
   "metadata": {},
   "outputs": [],
   "source": [
    "def insert_sort(arr):  \n",
    "    for i in range(1, len(arr)):  \n",
    "        key = arr[i]  \n",
    "        j = i - 1  \n",
    "        while j >= 0 and arr[j] > key:  \n",
    "            arr[j + 1] = arr[j]  \n",
    "            j -= 1  \n",
    "        arr[j + 1] = key  \n",
    "    return arr  "
   ]
  },
  {
   "cell_type": "markdown",
   "metadata": {},
   "source": [
    "3.用Python实现选择排序该算法，不允许直接调用插入排序函数，需要手动实现其逻辑过程。"
   ]
  },
  {
   "cell_type": "code",
   "execution_count": 2,
   "metadata": {},
   "outputs": [],
   "source": [
    "def select_sort(arr):  \n",
    "    for i in range(len(arr)):  \n",
    "        min_index = i            \n",
    "        for j in range(i + 1, len(arr)):  \n",
    "            if arr[j] < arr[min_index]:  \n",
    "                min_index = j  \n",
    "        arr[i], arr[min_index] = arr[min_index], arr[i]  \n",
    "    return arr  "
   ]
  },
  {
   "cell_type": "markdown",
   "metadata": {},
   "source": [
    "4.用Python实现快速排序该算法，不允许直接调用插入排序函数，需要手动实现其逻辑过程。"
   ]
  },
  {
   "cell_type": "code",
   "execution_count": 6,
   "metadata": {},
   "outputs": [],
   "source": [
    "def quick_sort(arr):  \n",
    "    def partition(low, high):  \n",
    "        pivot = arr[high]  \n",
    "        i = low - 1       \n",
    "        for j in range(low, high):  \n",
    "            if arr[j] <= pivot:  \n",
    "                i += 1                                                                                                                                                                                                                                                                                                                                                                                                                                                                                                                                                                                                                                                                                                                                                                                                                                                                                                                                                                                                                                                                   \n",
    "                arr[i], arr[j] = arr[j], arr[i]  \n",
    "        arr[i + 1], arr[high] = arr[high], arr[i + 1]  \n",
    "        return i + 1 \n",
    "    def quick_sort_(low, high):  \n",
    "        if low < high:  \n",
    "            pi = partition(low, high)   \n",
    "            quick_sort_(low, pi - 1)  \n",
    "            quick_sort_(pi + 1, high)  \n",
    "      \n",
    "    quick_sort_(0, len(arr) - 1)  \n",
    "    return arr  "
   ]
  },
  {
   "cell_type": "markdown",
   "metadata": {},
   "source": [
    "5.使用 Python 随机生成三组长度递增的随机数列，长度分别为100、1000、10000，对生成的随机数组使用不同的排序算法，例如选择排序和归并排序，至少三种排序方法。对这些数列的数据排序，并分析不同排序算法在不同长度数列下的运行效果，例如运行时间等指标。"
   ]
  },
  {
   "cell_type": "code",
   "execution_count": 4,
   "metadata": {},
   "outputs": [
    {
     "name": "stdout",
     "output_type": "stream",
     "text": [
      "insert1 time:  0.0004878000000019256\n",
      "insert2 time:  0.040439399999996795\n",
      "insert3 time:  4.780021299999994\n"
     ]
    }
   ],
   "source": [
    "import random\n",
    "import time\n",
    "def random_array(n):\n",
    "    return [random.randint(1, 100) for _ in range(n)]\n",
    "array1 = random_array(100)\n",
    "array2 = random_array(1000)\n",
    "array3 = random_array(10000)\n",
    "start_time1 = time.perf_counter()\n",
    "insert1 = insert_sort(array1)\n",
    "end_time1 = time.perf_counter()\n",
    "print(\"insert1 time: \", end_time1 - start_time1)\n",
    "start_time2 = time.perf_counter()\n",
    "insert2 = insert_sort(array2)\n",
    "end_time2 = time.perf_counter()\n",
    "print(\"insert2 time: \", end_time2 - start_time2)\n",
    "start_time3 = time.perf_counter()\n",
    "insert3 = insert_sort(array3)\n",
    "end_time3 = time.perf_counter()\n",
    "print(\"insert3 time: \", end_time3 - start_time3)"
   ]
  },
  {
   "cell_type": "code",
   "execution_count": 6,
   "metadata": {},
   "outputs": [
    {
     "name": "stdout",
     "output_type": "stream",
     "text": [
      "select1 time:  0.0006908000000009906\n",
      "select2 time:  0.04298610000000025\n",
      "select3 time:  4.3240807\n"
     ]
    }
   ],
   "source": [
    "start_time4 = time.perf_counter()\n",
    "select1 = select_sort(array1)\n",
    "end_time4 = time.perf_counter()\n",
    "print(\"select1 time: \", end_time4 - start_time4)\n",
    "start_time5 = time.perf_counter()\n",
    "select2 = select_sort(array2)\n",
    "end_time5 = time.perf_counter()\n",
    "print(\"select2 time: \", end_time5 - start_time5)\n",
    "start_time6 = time.perf_counter()\n",
    "select3 = select_sort(array3)\n",
    "end_time6 = time.perf_counter()\n",
    "print(\"select3 time: \", end_time6 - start_time6)"
   ]
  },
  {
   "cell_type": "code",
   "execution_count": 7,
   "metadata": {},
   "outputs": [
    {
     "name": "stdout",
     "output_type": "stream",
     "text": [
      "quick1 time:  0.0003106000000023812\n",
      "quick2 time:  0.0046682000000011215\n",
      "quick3 time:  0.1543133999999995\n"
     ]
    }
   ],
   "source": [
    "start_time7 = time.perf_counter()\n",
    "quick1 = quick_sort(array1)\n",
    "end_time7 = time.perf_counter()\n",
    "print(\"quick1 time: \", end_time7 - start_time7)\n",
    "start_time8 = time.perf_counter()\n",
    "quick2 = quick_sort(array2)\n",
    "end_time8 = time.perf_counter()\n",
    "print(\"quick2 time: \", end_time8 - start_time8)\n",
    "start_time9 = time.perf_counter()\n",
    "quick3 = quick_sort(array3)\n",
    "end_time9 = time.perf_counter()\n",
    "print(\"quick3 time: \", end_time9 - start_time9)"
   ]
  },
  {
   "cell_type": "markdown",
   "metadata": {},
   "source": [
    "由上述代码及运算结果可知，快速排序在大规模数据排序时表现尤为突出，其时间复杂度为O(nlogn)。\n",
    "而选择、插入排序在数据规模较大时表现较差，其时间复杂度为O(n^2)。"
   ]
  },
  {
   "cell_type": "markdown",
   "metadata": {},
   "source": [
    "6.使用python代码获取当前系统时间"
   ]
  },
  {
   "cell_type": "code",
   "execution_count": 14,
   "metadata": {},
   "outputs": [
    {
     "name": "stdout",
     "output_type": "stream",
     "text": [
      "当前系统时间: 2024-10-17 20:17:14.362696\n"
     ]
    }
   ],
   "source": [
    "from datetime import datetime  \n",
    "\n",
    "time = datetime.now()  \n",
    "  \n",
    "print(\"当前系统时间:\", time)"
   ]
  },
  {
   "cell_type": "markdown",
   "metadata": {},
   "source": [
    "7.homework/data文件夹下的stuGrade.csv文件中包含5位同学的学号、语文成绩、数学成绩和英语成绩，请先用记事本打开该文件，查看文件内容，然后编写Python程序，读取该文件，并计算出各科的平均成绩（保留2位小数）。"
   ]
  },
  {
   "cell_type": "code",
   "execution_count": 10,
   "metadata": {},
   "outputs": [
    {
     "name": "stdout",
     "output_type": "stream",
     "text": [
      "chinese:82.60\n",
      "math:81.00\n",
      "english:81.80\n"
     ]
    }
   ],
   "source": [
    "import pandas as pd\n",
    "import numpy as np\n",
    "df = pd.read_csv('stuGrade.csv')\n",
    " \n",
    "chinese_avg = df['chinese'].mean()\n",
    "math_avg = df['math'].mean()\n",
    "english_avg = df['english'].mean() \n",
    "  \n",
    "print(\"chinese:{:.2f}\".format(chinese_avg))\n",
    "print(\"math:{:.2f}\".format(math_avg))\n",
    "print(\"english:{:.2f}\".format(english_avg))"
   ]
  },
  {
   "cell_type": "markdown",
   "metadata": {},
   "source": [
    "8.请在第7题的代码继续编写Python程序，将以下内容写入my.txt文件中，一并上传到github中。"
   ]
  },
  {
   "cell_type": "markdown",
   "metadata": {},
   "source": [
    "第1行：你的学号和姓名\n",
    "\n",
    "第2行：3门课程的平均成绩（任意课程），保留2位小数，以英文逗号间隔\n",
    "\n",
    "第3行：系统当前时间，格式例如2020-01-01 12:00:00\n",
    "\n",
    "第4行：两秒后的系统当前时间（利用sleep()方法）"
   ]
  },
  {
   "cell_type": "code",
   "execution_count": 28,
   "metadata": {},
   "outputs": [],
   "source": [
    "import time\n",
    "from datetime import datetime  \n",
    "current_time = datetime.now().strftime(\"%Y-%m-%d %H:%M:%S\")  \n",
    "time.sleep(2)   \n",
    "future_time = datetime.now().strftime(\"%Y-%m-%d %H:%M:%S\") \n",
    "\n",
    "content = \"10224602456 高嘉泽\\n\"\n",
    "content += \"chinese:{:.2f}, math:{:.2f}, english:{:.2f}\\n\".format(chinese_avg, math_avg, english_avg)\n",
    "content += \"系统当前时间:{}\\n\".format(current_time)\n",
    "content += \"两秒后的系统当前时间:{}\".format(future_time)\n",
    "\n",
    "file_path = \"my.txt\"\n",
    "with open(file_path, 'w', encoding='utf-8') as file:  \n",
    "    file.write(content)  "
   ]
  }
 ],
 "metadata": {
  "kernelspec": {
   "display_name": "Python 3",
   "language": "python",
   "name": "python3"
  },
  "language_info": {
   "codemirror_mode": {
    "name": "ipython",
    "version": 3
   },
   "file_extension": ".py",
   "mimetype": "text/x-python",
   "name": "python",
   "nbconvert_exporter": "python",
   "pygments_lexer": "ipython3",
   "version": "3.9.13"
  }
 },
 "nbformat": 4,
 "nbformat_minor": 2
}
