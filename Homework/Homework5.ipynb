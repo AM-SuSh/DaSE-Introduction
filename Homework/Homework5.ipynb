{
 "cells": [
  {
   "cell_type": "markdown",
   "metadata": {},
   "source": [
    "0. 所有的题目结果中，给出SQL语句和执行结果。"
   ]
  },
  {
   "cell_type": "code",
   "execution_count": 43,
   "metadata": {},
   "outputs": [],
   "source": [
    "import mysql.connector\n",
    "db = mysql.connector.connect(\n",
    "  host=\"localhost\",\n",
    "  user=\"root\",\n",
    "  password=\"123456\",\n",
    "  database=\"DaSE\"\n",
    ")\n",
    "cursor = db.cursor()"
   ]
  },
  {
   "cell_type": "markdown",
   "metadata": {},
   "source": [
    "1. 在新数据库中新建一张 user 表,插入几条数据,属性包含:唯一标识(id),姓名(name)性别(sex).年龄(age).联系方式(phone)，数据如下：\n",
    "\n",
    "    ('John Doe', 'Male', 25, '123-456-7890')\n",
    "\n",
    "    ('Jane Smith', 'Female', 31, '987-654-3210')\n",
    "    \n",
    "    ('Bob Johnson', 'Male', 22, '555-123-4567')"
   ]
  },
  {
   "cell_type": "code",
   "execution_count": 44,
   "metadata": {},
   "outputs": [],
   "source": [
    "sql = \"CREATE TABLE user (id INT AUTO_INCREMENT PRIMARY KEY, name VARCHAR(255), sex VARCHAR(255), age INT, phone VARCHAR(255))\"\n",
    "cursor.execute(sql)"
   ]
  },
  {
   "cell_type": "code",
   "execution_count": 45,
   "metadata": {},
   "outputs": [],
   "source": [
    "sql = \"INSERT INTO user (name, sex, age, phone) VALUES (%s, %s, %s, %s)\"\n",
    "values = [('John Doe', 'Male', 25, '123-456-7890'), \n",
    "        ('Jane Smith', 'Female', 31, '987-654-3210'),\n",
    "        ('Bob Johnson', 'Male', 22, '555-123-4567')]\n",
    "cursor.executemany(sql, values)"
   ]
  },
  {
   "cell_type": "markdown",
   "metadata": {},
   "source": [
    "2. 写出 SQL语句,查询 user 表中所有年龄在 20-30 范围内的用户"
   ]
  },
  {
   "cell_type": "code",
   "execution_count": 46,
   "metadata": {},
   "outputs": [
    {
     "name": "stdout",
     "output_type": "stream",
     "text": [
      "(1, 'John Doe', 'Male', 25, '123-456-7890')\n",
      "(3, 'Bob Johnson', 'Male', 22, '555-123-4567')\n"
     ]
    }
   ],
   "source": [
    "sql = \"SELECT * FROM user Where age BETWEEN 20 AND 30\"\n",
    "cursor.execute(sql)\n",
    "for row in cursor:\n",
    "    print(row)"
   ]
  },
  {
   "cell_type": "markdown",
   "metadata": {},
   "source": [
    "3. 写出SQL语句，向user表中添加自己的个人信息，并添加几条和你姓名同姓的虚拟信息。"
   ]
  },
  {
   "cell_type": "code",
   "execution_count": 47,
   "metadata": {},
   "outputs": [],
   "source": [
    "sql = \"INSERT INTO user (name, sex, age, phone) VALUES (%s, %s, %s, %s)\"\n",
    "values = [('张三', 'Female', 20, '123-456-7890'), \n",
    "        ('张三', 'Female', 30, '987-654-3210'),\n",
    "        ('张三', 'Male', 25, '555-123-4567')]\n",
    "cursor.executemany(sql, values)"
   ]
  },
  {
   "cell_type": "markdown",
   "metadata": {},
   "source": [
    "4. 写出 SQL语句,查询 user 表中年龄在 20-30 范围内,名字包含“你的姓氏”的用户,并按照年龄从大到小排序输出"
   ]
  },
  {
   "cell_type": "code",
   "execution_count": 48,
   "metadata": {},
   "outputs": [
    {
     "name": "stdout",
     "output_type": "stream",
     "text": [
      "(5, '张三', 'Female', 30, '987-654-3210')\n",
      "(6, '张三', 'Male', 25, '555-123-4567')\n",
      "(4, '张三', 'Female', 20, '123-456-7890')\n"
     ]
    }
   ],
   "source": [
    "sql = \"SELECT * FROM user WHERE age BETWEEN 20 AND 30 AND name LIKE '张%' ORDER BY age DESC\"\n",
    "cursor.execute(sql)\n",
    "for row in cursor:\n",
    "    print(row)"
   ]
  },
  {
   "cell_type": "markdown",
   "metadata": {},
   "source": [
    "5. 写出 SQL 语句,计算 user 表中所有用户的平均年龄"
   ]
  },
  {
   "cell_type": "code",
   "execution_count": 49,
   "metadata": {},
   "outputs": [
    {
     "name": "stdout",
     "output_type": "stream",
     "text": [
      "(Decimal('25.5000'),)\n"
     ]
    }
   ],
   "source": [
    "sql = \"SELECT AVG(age) FROM user\"\n",
    "cursor.execute(sql)\n",
    "for row in cursor:\n",
    "    print(row)"
   ]
  },
  {
   "cell_type": "markdown",
   "metadata": {},
   "source": [
    "6. 新建两张表team 表(id,teamName)和score 表(id,teamid,userid,score)。其中score 表中的 teamid 为指向 team表id 的外键，userid 为指向 user表id的外键"
   ]
  },
  {
   "cell_type": "code",
   "execution_count": 50,
   "metadata": {},
   "outputs": [],
   "source": [
    "sql = \"CREATE TABLE team (id INT AUTO_INCREMENT PRIMARY KEY, teamName VARCHAR(255))\"\n",
    "cursor.execute(sql)\n",
    "sql = \"CREATE TABLE score (id INT AUTO_INCREMENT PRIMARY KEY, teamid INT, userid INT, score INT, FOREIGN KEY (teamid) REFERENCES team(id), FOREIGN KEY (userid) REFERENCES user(id))\"\n",
    "cursor.execute(sql)"
   ]
  },
  {
   "cell_type": "markdown",
   "metadata": {},
   "source": [
    "7. 在team表中和score表中插入合适的记录，写出 SQL语句,查询 teamName 为“ECNU”的队伍中，年龄小于 20 的用户们，结果不得为空。"
   ]
  },
  {
   "cell_type": "code",
   "execution_count": 51,
   "metadata": {},
   "outputs": [],
   "source": [
    "sql = \"INSERT INTO user (name, sex, age, phone) VALUES (%s, %s, %s, %s)\"\n",
    "values = ('李明', 'Male', 18, '123-456-7890')\n",
    "cursor.execute(sql, values)\n",
    "\n",
    "sql = \"INSERT INTO team (teamName) VALUES ('ECNU')\"\n",
    "cursor.execute(sql)\n",
    "\n",
    "sql = \"INSERT INTO score (teamid, userid, score) VALUES (%s, %s, %s)\"\n",
    "values = [(1, 1, 100), (1, 2, 90), (1, 7, 80)]\n",
    "cursor.executemany(sql, values)"
   ]
  },
  {
   "cell_type": "code",
   "execution_count": 52,
   "metadata": {},
   "outputs": [
    {
     "name": "stdout",
     "output_type": "stream",
     "text": [
      "('李明',)\n"
     ]
    }
   ],
   "source": [
    "sql = \"SELECT u.name FROM user u, team t, score s WHERE u.age < 20 AND t.teamName = 'ECNU' AND t.id = s.teamid AND u.id = s.userid\"\n",
    "cursor.execute(sql)\n",
    "for row in cursor:\n",
    "    print(row)"
   ]
  },
  {
   "cell_type": "markdown",
   "metadata": {},
   "source": [
    "8. 写出 SQL 语句,计算 teamName为“ECNU”的总分(假设 score 存在 null值,nul值默认为 0 加入计算)。"
   ]
  },
  {
   "cell_type": "code",
   "execution_count": 53,
   "metadata": {},
   "outputs": [
    {
     "name": "stdout",
     "output_type": "stream",
     "text": [
      "(Decimal('270'),)\n"
     ]
    }
   ],
   "source": [
    "sql = \"SELECT SUM(IFNULL(score, 0)) FROM team t, score s WHERE t.teamName = 'ECNU' AND t.id = s.teamid\"\n",
    "cursor.execute(sql)\n",
    "for row in cursor:\n",
    "    print(row)"
   ]
  },
  {
   "cell_type": "markdown",
   "metadata": {},
   "source": [
    "9. 写出SQL语句，删除user表中个人信息的记录。"
   ]
  },
  {
   "cell_type": "code",
   "execution_count": 54,
   "metadata": {},
   "outputs": [],
   "source": [
    "sql = \"DELETE FROM user WHERE name = '张三' AND age = 20 AND phone = '123-456-7890'\"\n",
    "cursor.execute(sql)"
   ]
  },
  {
   "cell_type": "code",
   "execution_count": 55,
   "metadata": {},
   "outputs": [],
   "source": [
    "cursor.close()  \n",
    "db.close()"
   ]
  }
 ],
 "metadata": {
  "kernelspec": {
   "display_name": "Python 3",
   "language": "python",
   "name": "python3"
  },
  "language_info": {
   "codemirror_mode": {
    "name": "ipython",
    "version": 3
   },
   "file_extension": ".py",
   "mimetype": "text/x-python",
   "name": "python",
   "nbconvert_exporter": "python",
   "pygments_lexer": "ipython3",
   "version": "3.9.13"
  }
 },
 "nbformat": 4,
 "nbformat_minor": 2
}
